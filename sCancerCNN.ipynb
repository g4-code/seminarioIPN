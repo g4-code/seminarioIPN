{
 "cells": [
  {
   "cell_type": "code",
   "execution_count": null,
   "metadata": {},
   "outputs": [],
   "source": [
    "#Data Science\n",
    "#Coder: Marco Galicia\n",
    "#Alma mater: IPN Mexico - ESIME ICE\n",
    "#Seminario: Patrones Area Médica 2019\n",
    "#Work based on:\n",
    "#Hands on ML - Aurelien Geron - O'reilly media Inc,\n",
    "#https://www.kaggle.com/sarques/aiwitbor/notebook\n",
    "#https://kapernikov.com/tutorial-image-classification-with-scikit-learn/\n",
    "#https://towardsdatascience.com/new-to-cnn-learn-your-basics-here-with-the-mnist-digit-recognizer-dataset-538313a29c88\n",
    "#https://becominghuman.ai/understanding-the-basics-of-cnn-with-image-classification-7f3a9ddea8f9\n",
    "#\"Yo solo sé que no se nada\"...olvida todas las palabras griegas y los rollos de papiro...\n",
    "import numpy as np # linear algebra\n",
    "from numpy import array\n",
    "import pandas as pd # data processing, CSV file I/O (e.g. pd.read_csv)\n",
    "import os\n",
    "\n",
    "print(os.listdir(\"../input/skin-cancer-mnist-ham10000\"))\n",
    "base_add = os.path.join('..', 'input/skin-cancer-mnist-ham10000')\n",
    "print(base_add)\n",
    "# Any results you write to the current directory are saved as output."
   ]
  },
  {
   "cell_type": "code",
   "execution_count": null,
   "metadata": {},
   "outputs": [],
   "source": [
    "import seaborn as sns\n",
    "import matplotlib.pyplot as plt\n",
    "import sklearn\n",
    "from glob import glob\n",
    "%matplotlib inline\n",
    "from PIL import Image\n",
    "from sklearn.model_selection import train_test_split\n",
    "from sklearn.metrics import confusion_matrix\n",
    "import itertools\n",
    "import keras\n",
    "from keras.utils.np_utils import to_categorical\n",
    "from keras.models import Sequential\n",
    "from keras.layers import Dense, Dropout, Flatten, Conv2D, MaxPool2D, Activation\n",
    "from keras.layers import MaxPooling2D, BatchNormalization\n",
    "import tensorflow as tf"
   ]
  },
  {
   "cell_type": "code",
   "execution_count": null,
   "metadata": {},
   "outputs": [],
   "source": [
    "#modulo 3\n",
    "#https://stackoverflow.com/questions/8532929/two-asterisks-in-file-path\n",
    "image_path_dict = {os.path.splitext(os.path.basename(x))[0]: \n",
    "                   x for x in glob(os.path.join(base_add, '*', '*.jpg'))}\n",
    "print(len(image_path_dict))\n",
    "lesion_type_dict = {'nv': 'Melanocytic nevi',\n",
    "    'mel': 'Melanoma',\n",
    "    'bkl': 'Benign keratosis-like lesions ',\n",
    "    'bcc': 'Basal cell carcinoma',\n",
    "    'akiec': 'Actinic keratoses',\n",
    "    'vasc': 'Vascular lesions',\n",
    "    'df': 'Dermatofibroma'}\n",
    "df = pd.read_csv(os.path.join(base_add, 'HAM10000_metadata.csv'))\n",
    "print(\"tipo de objeto:\",type(df))\n",
    "print(\"longitud:\",len(df))"
   ]
  },
  {
   "cell_type": "code",
   "execution_count": null,
   "metadata": {},
   "outputs": [],
   "source": [
    "#modulo 4\n",
    "#operacion en bruto, se observa el comportamiento de series.map...\n",
    "#si en df['dx'].iloc[0] = 'bkl', map busca y encuentra 'Benign keratosis-like lesions'\n",
    "#si en df['dx'].iloc[10010] = 'akeic', map busca y encuentra 'Actinic keratoses'\n",
    "#busqueda y asignacion com map key:value\n",
    "df['cell_type'] = df['dx'].map(lesion_type_dict.get)\n",
    "df['path'] = df['image_id'].map(image_path_dict.get)\n",
    "#series(columnas) del data frame despues de la asignacion\n",
    "print(df.columns)\n",
    "df.head(3)"
   ]
  },
  {
   "cell_type": "code",
   "execution_count": null,
   "metadata": {},
   "outputs": [],
   "source": [
    "#modulo 5\n",
    "#analisis datos para preparar entrenamiento supervisado\n",
    "#crea categorias para (dx): 7 to many, nueva serie/columna dx_code\n",
    "df['dx_code'] = pd.Categorical(df['dx']).codes\n",
    "print(pd.Categorical(df['dx']).unique())\n",
    "print(pd.Categorical(df['dx_code']).unique())\n",
    "#confirmando...\n",
    "#bkl=2; nv=5; df=3; mel=4; vasc=6; bcc=1; akeic=0;\n",
    "#df.sample(7)\n",
    "df.head(10)"
   ]
  },
  {
   "cell_type": "code",
   "execution_count": null,
   "metadata": {},
   "outputs": [],
   "source": [
    "#homogeneizar\n",
    "df['age'].fillna(df['age'].mean(), inplace = True)\n",
    "df.info()"
   ]
  },
  {
   "cell_type": "code",
   "execution_count": null,
   "metadata": {},
   "outputs": [],
   "source": [
    "#https://stackoverflow.com/questions/43027980/purpose-of-matplotlib-inline\n",
    "df['cell_type'].value_counts().plot(kind = 'bar')\n",
    "print(df['cell_type'].value_counts())"
   ]
  },
  {
   "cell_type": "code",
   "execution_count": null,
   "metadata": {},
   "outputs": [],
   "source": [
    "#modulo 8\n",
    "df['image_3d'] = df['path'].map(lambda x: np.asarray(Image.open(x).resize((100, 75))))\n",
    "print(df.columns)\n",
    "print(df['image_3d'].shape)\n",
    "df.head(3)"
   ]
  },
  {
   "cell_type": "code",
   "execution_count": null,
   "metadata": {},
   "outputs": [],
   "source": [
    "print('Numero de muestras: ', len(df['image_3d']))\n",
    "print('keys(columnas): ', list(df.keys()))\n",
    "print('Descripcion: ', df['cell_type'])\n",
    "print('image shape: ', df['image_3d'][0].shape)\n",
    "print('Etiquetas num(labels):', np.unique(df['dx_code']))"
   ]
  },
  {
   "cell_type": "code",
   "execution_count": null,
   "metadata": {},
   "outputs": [],
   "source": [
    "#Confirmando la categorizacion por tipo de lesion\n",
    "# valores unico en la serie dx_code (etiquetas-label)\n",
    "labels = np.unique(df['dx_code'])\n",
    " \n",
    "# set up the matplotlib figure and axes, based on the number of labels RGB & GRAYscale\n",
    "fig, axes = plt.subplots(1, len(labels))\n",
    "fig.set_size_inches(15,4)\n",
    "fig.tight_layout()\n",
    "          \n",
    "#https://www.digitalocean.com/community/tutorials/how-to-use-break-continue-and-pass-statements-when-working-with-loops-in-python-3\n",
    "for axRGB, dx_code in zip(axes, labels):\n",
    "    #print(dx_code)\n",
    "    for j in range(len(df['image_3d'])):\n",
    "        if df['dx_code'].iloc[j] == dx_code:\n",
    "            #print(\"found:\",df['dx_code'].iloc[j])\n",
    "            axRGB.imshow(df['image_3d'].iloc[j])\n",
    "            axRGB.axis('off')\n",
    "            axRGB.set_title(dx_code)\n",
    "            break"
   ]
  },
  {
   "cell_type": "code",
   "execution_count": null,
   "metadata": {},
   "outputs": [],
   "source": [
    "X = np.array(df['image_3d'])\n",
    "y = np.array(df['dx_code'])"
   ]
  },
  {
   "cell_type": "code",
   "execution_count": null,
   "metadata": {},
   "outputs": [],
   "source": [
    "X_train, X_test, y_train, y_test = train_test_split(\n",
    "    X,\n",
    "    y,\n",
    "    test_size=0.2,\n",
    "    shuffle=True,\n",
    "    random_state=42,\n",
    ")"
   ]
  },
  {
   "cell_type": "code",
   "execution_count": null,
   "metadata": {},
   "outputs": [],
   "source": [
    "#hyperparametros CNN\n",
    "batch_size = 32\n",
    "num_classes = 7\n",
    "epochs = 5\n",
    "input_shape = (75, 100, 3)"
   ]
  },
  {
   "cell_type": "code",
   "execution_count": null,
   "metadata": {},
   "outputs": [],
   "source": [
    "#mODULO 14: Convertir lista(vector) a array(matrix) binario(patron binario).\n",
    "print(\"Vector->Lista:\",y_test)\n",
    "y_train = keras.utils.to_categorical(y_train, num_classes)\n",
    "y_test = keras.utils.to_categorical(y_test, num_classes)\n",
    "print(\"Matrix -> Array Binario->:\",y_test)"
   ]
  },
  {
   "cell_type": "code",
   "execution_count": null,
   "metadata": {},
   "outputs": [],
   "source": [
    "#Normalization max y min\n",
    "X_train = np.asarray(X_train.tolist())\n",
    "X_test = np.asarray(X_test.tolist())\n",
    "\n",
    "print(\"Antes de Normalizar\")\n",
    "print(\"maixmos:\",np.amin(X_train))\n",
    "print(\"minimos:\",np.amax(X_train))\n",
    "\n",
    "X_train_mean = np.mean(X_train)\n",
    "X_test_mean = np.mean(X_test)\n",
    "\n",
    "X_train_std = np.std(X_train)\n",
    "X_test_std = np.std(X_test)\n",
    "\n",
    "X_train = (X_train - X_train_mean)/X_train_std\n",
    "X_test = (X_test - X_test_mean)/X_test_std\n",
    "\n",
    "print(\"Despues de Normalizar\")\n",
    "print(\"maixmos:\",np.amin(X_train))\n",
    "print(\"minimos:\",np.amax(X_train))"
   ]
  },
  {
   "cell_type": "code",
   "execution_count": null,
   "metadata": {},
   "outputs": [],
   "source": [
    "# model architecture\n",
    "model = Sequential()\n",
    "model.add(Conv2D(32, (3, 3),padding='same',input_shape=input_shape))\n",
    "model.add(Activation('relu'))\n",
    "model.add(BatchNormalization())\n",
    "\n",
    "model.add(Conv2D(32, (3, 3)))\n",
    "model.add(Activation('relu'))\n",
    "model.add(BatchNormalization())\n",
    "model.add(MaxPooling2D(pool_size=(2, 2)))\n",
    "model.add(Dropout(0.25))\n",
    "\n",
    "model.add(Conv2D(64, (3, 3), padding='same'))\n",
    "model.add(Activation('relu'))\n",
    "model.add(BatchNormalization())\n",
    "\n",
    "model.add(Conv2D(64, (3, 3)))\n",
    "model.add(Activation('relu'))\n",
    "model.add(BatchNormalization())\n",
    "model.add(MaxPooling2D(pool_size=(2, 2)))\n",
    "model.add(Dropout(0.25))\n",
    "\n",
    "model.add(Flatten())\n",
    "model.add(Dense(512))\n",
    "model.add(Activation('relu'))\n",
    "model.add(Dropout(0.5))\n",
    "model.add(Dense(num_classes))\n",
    "model.add(Activation('softmax'))"
   ]
  },
  {
   "cell_type": "code",
   "execution_count": null,
   "metadata": {},
   "outputs": [],
   "source": [
    "# summary\n",
    "model.summary()"
   ]
  },
  {
   "cell_type": "code",
   "execution_count": null,
   "metadata": {},
   "outputs": [],
   "source": [
    "# compile the model\n",
    "model.compile(loss='categorical_crossentropy',\n",
    "              optimizer='sgd',\n",
    "              metrics=['accuracy'])"
   ]
  },
  {
   "cell_type": "code",
   "execution_count": null,
   "metadata": {},
   "outputs": [],
   "source": [
    "# ajuste del modelo\n",
    "model.fit(X_train, y_train,\n",
    "              batch_size=batch_size,\n",
    "              epochs=epochs,\n",
    "              validation_data=(X_test, y_test),\n",
    "              shuffle=True)\n",
    "\n",
    "#################\n",
    "#y_pred=model.predict_classes(X_test)\n",
    "#print(y_pred)"
   ]
  },
  {
   "cell_type": "code",
   "execution_count": null,
   "metadata": {},
   "outputs": [],
   "source": [
    "#converir clases de fold validacion y_test: binario a decimal\n",
    "Y_true = np.argmax(y_test,axis = 1) \n",
    "#predicciones del modelo CNN sobre X_test, estimado para y\n",
    "y_pred_classes=model.predict_classes(X_test)\n",
    "print(\"conteo de validacion\")\n",
    "print(pd.value_counts(Y_true))\n",
    "#Computo de la matriz de confusion\n",
    "confusion_mtx = confusion_matrix(Y_true, y_pred_classes)  \n",
    "print(\"matrix de confusion\")\n",
    "print(confusion_mtx)"
   ]
  },
  {
   "cell_type": "code",
   "execution_count": null,
   "metadata": {},
   "outputs": [],
   "source": [
    "plt.matshow(confusion_mtx, cmap=plt.cm.gray)\n",
    "plt.show()"
   ]
  },
  {
   "cell_type": "markdown",
   "metadata": {},
   "source": [
    "Inferencia CNN: La grafica es estatica, muestra la diagonal de la matriz de confusion vs los datos de validacion."
   ]
  },
  {
   "cell_type": "code",
   "execution_count": null,
   "metadata": {},
   "outputs": [],
   "source": [
    "#version estatica 5 epocas\n",
    "import matplotlib\n",
    "import matplotlib.pyplot as plt\n",
    "import numpy as np\n",
    "\n",
    "\n",
    "labels = ['akeic', 'bcc', 'bkl', 'df', 'mel', 'nv' , 'vasc']\n",
    "validacion = [69, 93, 228, 28, 226 , 1338, 21 ]\n",
    "inferencia = [16, 48, 96, 0, 17, 1287, 9]\n",
    "\n",
    "x = np.arange(len(labels))  # the label locations\n",
    "width = 0.35  # the width of the bars\n",
    "\n",
    "fig, ax = plt.subplots()\n",
    "rects1 = ax.bar(x - width/2, validacion, width, label='Conteo Validación')\n",
    "rects2 = ax.bar(x + width/2, inferencia, width, label='Conteo inferencia')\n",
    "\n",
    "# Add some text for labels, title and custom x-axis tick labels, etc.\n",
    "ax.set_ylabel('Conteo de lesiones')\n",
    "ax.set_title('Conteo autómata CNN ≈ 73.54%')\n",
    "ax.set_xticks(x)\n",
    "ax.set_xticklabels(labels)\n",
    "ax.legend()\n",
    "\n",
    "\n",
    "def autolabel(rects):\n",
    "    \"\"\"Attach a text label above each bar in *rects*, displaying its height.\"\"\"\n",
    "    for rect in rects:\n",
    "        height = rect.get_height()\n",
    "        ax.annotate('{}'.format(height),\n",
    "                    xy=(rect.get_x() + rect.get_width() / 2, height),\n",
    "                    xytext=(0, 3),  # 3 points vertical offset\n",
    "                    textcoords=\"offset points\",\n",
    "                    ha='center', va='bottom')\n",
    "\n",
    "\n",
    "autolabel(rects1)\n",
    "autolabel(rects2)\n",
    "\n",
    "fig.tight_layout()\n",
    "\n",
    "plt.show()"
   ]
  }
 ],
 "metadata": {
  "kernelspec": {
   "display_name": "Python 2",
   "language": "python",
   "name": "python2"
  },
  "language_info": {
   "codemirror_mode": {
    "name": "ipython",
    "version": 2
   },
   "file_extension": ".py",
   "mimetype": "text/x-python",
   "name": "python",
   "nbconvert_exporter": "python",
   "pygments_lexer": "ipython2",
   "version": "2.7.16"
  }
 },
 "nbformat": 4,
 "nbformat_minor": 2
}
