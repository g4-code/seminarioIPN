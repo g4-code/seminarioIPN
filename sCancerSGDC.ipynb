{
 "cells": [
  {
   "cell_type": "code",
   "execution_count": null,
   "metadata": {},
   "outputs": [],
   "source": [
    "#Data Science\n",
    "#Coder: Marco Galicia\n",
    "#Alma mater: IPN Mexico - ESIME ICE\n",
    "#Seminario:Patrones Area Médica 2019\n",
    "#Work based on:\n",
    "#Hands on ML - Aurelien Geron - O'reilly media Inc,\n",
    "#https://www.kaggle.com/sarques/aiwitbor/notebook\n",
    "#https://kapernikov.com/tutorial-image-classification-with-scikit-learn/\n",
    "#https://becominghuman.ai/understanding-the-basics-of-cnn-with-image-classification-7f3a9ddea8f9\n",
    "#\"Yo solo sé que no se nada\"...olvida todas las palabras griegas y los rollos de papiro...\n",
    "import numpy as np # linear algebra\n",
    "from numpy import array\n",
    "import pandas as pd # data processing, CSV file I/O (e.g. pd.read_csv)\n",
    "import os\n",
    "\n",
    "print(os.listdir(\"../input/skin-cancer-mnist-ham10000\"))\n",
    "base_add = os.path.join('..', 'input/skin-cancer-mnist-ham10000')\n",
    "print(base_add)\n",
    "# Any results you write to the current directory are saved as output."
   ]
  },
  {
   "cell_type": "code",
   "execution_count": null,
   "metadata": {},
   "outputs": [],
   "source": [
    "import seaborn as sns\n",
    "import matplotlib.pyplot as plt\n",
    "import sklearn\n",
    "import sklearn.linear_model\n",
    "from glob import glob\n",
    "%matplotlib inline\n",
    "from PIL import Image\n",
    "from skimage import io, color, data\n",
    "from skimage.color import rgb2gray\n",
    "from sklearn.model_selection import train_test_split, cross_val_score, cross_val_predict\n",
    "from sklearn.preprocessing import label_binarize, StandardScaler\n",
    "from sklearn.metrics import confusion_matrix, precision_recall_curve\n",
    "from sklearn.linear_model import SGDClassifier"
   ]
  },
  {
   "cell_type": "code",
   "execution_count": null,
   "metadata": {},
   "outputs": [],
   "source": [
    "#https://stackoverflow.com/questions/8532929/two-asterisks-in-file-path\n",
    "#https://docs.python.org/2/library/glob.html\n",
    "#https://www.geeksforgeeks.org/python-os-path-splitext-method/\n",
    "#dark side of the force, Sith native language... x : x for x\n",
    "image_path_dict = {os.path.splitext(os.path.basename(x))[0]: \n",
    "                   x for x in glob(os.path.join(base_add, '*', '*.jpg'))}\n",
    "#https://stackoverflow.com/questions/9221817/python-dictionary\n",
    "lesion_type_dict = {'nv': 'Melanocytic nevi',\n",
    "    'mel': 'Melanoma',\n",
    "    'bkl': 'Benign keratosis-like lesions ',\n",
    "    'bcc': 'Basal cell carcinoma',\n",
    "    'akiec': 'Actinic keratoses',\n",
    "    'vasc': 'Vascular lesions',\n",
    "    'df': 'Dermatofibroma'}\n",
    "df = pd.read_csv(os.path.join(base_add, 'HAM10000_metadata.csv'))\n",
    "#df = pd.read_csv(os.path.join(base_add, 'HAM10000_metadata.csv'),nrows = 4000)\n",
    "df.sort_values(by=[\"image_id\"], ascending=False)\n",
    "#tipo\n",
    "print(type(df))\n",
    "#longitud\n",
    "print(len(df))"
   ]
  },
  {
   "cell_type": "code",
   "execution_count": null,
   "metadata": {},
   "outputs": [],
   "source": [
    "#mapeo dinamico, creacion de nuevas series cell_type, path y dx_code\n",
    "#operacion en bruto, se observa el comportamiento de series.map...\n",
    "#si en df['dx'].iloc[0] = 'bkl', map busca y encuentra 'Benign keratosis-like lesions'\n",
    "#si en df['dx'].iloc[10010] = 'akeic', map busca y encuentra 'Actinic keratoses'\n",
    "#busqueda y asignacion com map key:value\n",
    "df['cell_type'] = df['dx'].map(lesion_type_dict.get)\n",
    "df['path'] = df['image_id'].map(image_path_dict.get)\n",
    "#series(columnas) del data frame despues de la asignacion\n",
    "print(df.columns)\n",
    "#df.sample(3)\n",
    "df.head(10)"
   ]
  },
  {
   "cell_type": "code",
   "execution_count": null,
   "metadata": {},
   "outputs": [],
   "source": [
    "#analisis datos para preparar entrenamiento supervisado\n",
    "#crea categorias para (dx): 7 to many, nueva serie/columna dx_code\n",
    "df['dx_code'] = pd.Categorical(df['dx']).codes\n",
    "print(pd.Categorical(df['dx']).unique())\n",
    "print(pd.Categorical(df['dx_code']).unique())\n",
    "#confirmando...\n",
    "#bkl=2; nv=5; df=3; mel=4; vasc=6; bcc=1; akeic=0;\n",
    "#df.sample(7)\n",
    "df.head(10)"
   ]
  },
  {
   "cell_type": "code",
   "execution_count": null,
   "metadata": {},
   "outputs": [],
   "source": [
    "#homogeneizar\n",
    "df['age'].fillna(df['age'].mean(), inplace = True)\n",
    "df.info()"
   ]
  },
  {
   "cell_type": "code",
   "execution_count": null,
   "metadata": {},
   "outputs": [],
   "source": [
    "#https://stackoverflow.com/questions/43027980/purpose-of-matplotlib-inline\n",
    "df['cell_type'].value_counts().plot(kind = 'bar')\n",
    "print(df['cell_type'].value_counts())"
   ]
  },
  {
   "cell_type": "code",
   "execution_count": null,
   "metadata": {},
   "outputs": [],
   "source": [
    "df['image_3d'] = df['path'].map(lambda x: np.asarray(Image.open(x).resize((100, 75))))\n",
    "#df['image_2d'] = df['image_3d'].map(lambda x: rgb2gray(x.reshape(75,100,3)))\n",
    "df['image_2d'] = df['image_3d'].map(lambda x: rgb2gray(x))\n",
    "df = df.assign(image_1d=np.random.randn(10015))\n",
    "print(df.columns)\n",
    "imageSeriesSize = df['image_3d'].size\n",
    "for i in range(imageSeriesSize):\n",
    "    d3_sum = 0\n",
    "    d2_sum = 0\n",
    "    d1_sum = 0\n",
    "    d1_mean = 0\n",
    "    d3_sum = df['image_3d'].iloc[i]\n",
    "    d2_sum = d3_sum.sum(axis=0)\n",
    "    d1_sum = d2_sum.sum(axis=0)\n",
    "    d1_mean = d1_sum.mean(axis=0)\n",
    "    df.assign(image_1d=d1_mean)\n",
    "#Reduccion aun numero, No hay imagenes repetidas\n",
    "print(df['image_1d'].is_unique)\n",
    "#analisis para un elemento de la serie path\n",
    "#serieElementat = df['path'].iloc[2000]\n",
    "#oneElement = np.asarray(Image.open(serieElementat).resize((100, 75)))\n",
    "#print(oneElement.min())\n",
    "#print(oneElement.max())\n",
    "#print(df.columns)\n",
    "#df.sample(2)\n",
    "df.head(3)"
   ]
  },
  {
   "cell_type": "code",
   "execution_count": null,
   "metadata": {},
   "outputs": [],
   "source": [
    "#Confirmando la categorizacion por tipo de lesion\n",
    "# valores unico en la serie dx_code (etiquetas-label)\n",
    "labels = np.unique(df['dx_code'])\n",
    " \n",
    "# set up the matplotlib figure and axes, based on the number of labels RGB & GRAYscale\n",
    "fig, axes = plt.subplots(1, len(labels))\n",
    "fig.set_size_inches(15,4)\n",
    "fig.tight_layout()\n",
    "\n",
    "figGR, axesGR = plt.subplots(1, len(labels))\n",
    "figGR.set_size_inches(15,4)\n",
    "figGR.tight_layout()\n",
    "          \n",
    "#https://www.digitalocean.com/community/tutorials/how-to-use-break-continue-and-pass-statements-when-working-with-loops-in-python-3\n",
    "for axRGB, dx_code in zip(axes, labels):\n",
    "    #print(dx_code)\n",
    "    for j in range(len(df['image_3d'])):\n",
    "        if df['dx_code'].iloc[j] == dx_code:\n",
    "            #print(\"found:\",df['dx_code'].iloc[j])\n",
    "            axRGB.imshow(df['image_3d'].iloc[j])\n",
    "            axRGB.axis('off')\n",
    "            axRGB.set_title(dx_code)\n",
    "            break\n",
    "\n",
    "for axGR, dx_code in zip(axesGR, labels):\n",
    "    #print(dx_code)\n",
    "    for k in range(len(df['image_2d'])):\n",
    "        if df['dx_code'].iloc[k] == dx_code:\n",
    "            #print(\"found:\",df['dx_code'].iloc[j])\n",
    "            axGR.imshow(df['image_2d'].iloc[k], cmap=plt.cm.gray)\n",
    "            axGR.axis('off')\n",
    "            axGR.set_title(dx_code)\n",
    "            break"
   ]
  },
  {
   "cell_type": "markdown",
   "metadata": {},
   "source": [
    "Se comparan dos algoritmos para clasificacion , Stochastic Gardient Descent (SGDCLassifier/sklearn) y Convolutional Neural Network (Conv2D/Keras).\n",
    "\n",
    "Para utilizar los datos en SGDCLassifier, se necesita un preprocesamiento extra, el formato y forma del arreglo:"
   ]
  },
  {
   "cell_type": "code",
   "execution_count": null,
   "metadata": {},
   "outputs": [],
   "source": [
    "X_preGray, y_gray = df['image_2d'], df['dx_code']\n",
    "print(\"X_preGray shape:\", X_preGray.shape)\n",
    "print(\"X_preGray size:\", X_preGray.size)\n",
    "print(\"X_preGray inner shape:\", X_preGray.iloc[0].size)\n",
    "print(\"X_preGray type\",type(X_preGray))\n",
    "###################\n",
    "#extraccion de nested array\n",
    "aux_arr = []\n",
    "for i in range(X_preGray.size):\n",
    "    #aplastar el arreglo 75x100 para obtener lista 7500\n",
    "    aux_arr.append(X_preGray.iloc[i].ravel())\n",
    "    \n",
    "X_gray = np.asarray(aux_arr)\n",
    "#formato correcto para SGDClassifier (numero de imagenes, numero de features)\n",
    "print(\"Forma esperada X_gray shape\", X_gray.shape)\n",
    "print(X_preGray)\n",
    "print(X_gray)"
   ]
  },
  {
   "cell_type": "markdown",
   "metadata": {},
   "source": [
    "A continuacion se presenta el algoritmo SGD sobre HAM1000 con las imagenes transformadas a GrayScale"
   ]
  },
  {
   "cell_type": "code",
   "execution_count": null,
   "metadata": {},
   "outputs": [],
   "source": [
    "X_train, X_test, y_train, y_test = train_test_split(\n",
    "    X_gray,\n",
    "    y_gray,\n",
    "    test_size=0.3,\n",
    "    shuffle=True,\n",
    "    random_state=42,\n",
    ")"
   ]
  },
  {
   "cell_type": "code",
   "execution_count": null,
   "metadata": {},
   "outputs": [],
   "source": [
    "#binary classifier set up\n",
    "#SGDClassifier\n",
    "sgd_clf = SGDClassifier(random_state=42, max_iter=1000, tol=1e-3, alpha=0.00020)\n",
    "sgd_clf.fit(X_train, y_train)\n",
    "y_pred_test = sgd_clf.predict(X_test)"
   ]
  },
  {
   "cell_type": "code",
   "execution_count": null,
   "metadata": {},
   "outputs": [],
   "source": [
    "print(\"...\", type(y_pred_test))\n",
    "print(\"...\", type(y_test))\n",
    "print(\"...\", len(y_test))\n",
    "print(y_pred_test)\n",
    "print(y_test)\n",
    "print('Porcentaje de precision en la prediccion: ')\n",
    "print(100*np.sum(y_pred_test == y_test)/len(y_test))"
   ]
  },
  {
   "cell_type": "code",
   "execution_count": null,
   "metadata": {},
   "outputs": [],
   "source": [
    "#analisis de error\n",
    "y_test_pred = cross_val_predict(sgd_clf, X_test, y_test, cv=7)\n",
    "print(\"conteo de validacion\")\n",
    "print(pd.value_counts(y_test))\n",
    "conf_mx = confusion_matrix(y_test, y_test_pred)\n",
    "print(\"matriz de confusion\")\n",
    "print(conf_mx)"
   ]
  },
  {
   "cell_type": "code",
   "execution_count": null,
   "metadata": {},
   "outputs": [],
   "source": [
    "plt.matshow(conf_mx, cmap=plt.cm.gray)\n",
    "plt.show()"
   ]
  },
  {
   "cell_type": "markdown",
   "metadata": {},
   "source": [
    "Inferencia: Grafica estatica, la diagonal de la matriz de confusion vs los datos de validacion"
   ]
  },
  {
   "cell_type": "code",
   "execution_count": null,
   "metadata": {},
   "outputs": [],
   "source": [
    "#version estatica\n",
    "import matplotlib\n",
    "import matplotlib.pyplot as plt\n",
    "import numpy as np\n",
    "\n",
    "\n",
    "labels = ['akeic', 'bcc', 'bkl', 'df', 'mel', 'nv' , 'vasc']\n",
    "validacion = [96, 143, 350, 39, 347 , 1997, 33 ]\n",
    "inferencia = [9, 34, 11, 1, 137, 1374, 1]\n",
    "\n",
    "x = np.arange(len(labels))  # the label locations\n",
    "width = 0.35  # the width of the bars\n",
    "\n",
    "fig, ax = plt.subplots()\n",
    "rects1 = ax.bar(x - width/2, validacion, width, label='Conteo Validación')\n",
    "rects2 = ax.bar(x + width/2, inferencia, width, label='Conteo inferencia')\n",
    "\n",
    "# Add some text for labels, title and custom x-axis tick labels, etc.\n",
    "ax.set_ylabel('Conteo de lesiones')\n",
    "ax.set_title('Conteo autómata SGDClassifier ≈ 66.8%')\n",
    "ax.set_xticks(x)\n",
    "ax.set_xticklabels(labels)\n",
    "ax.legend()\n",
    "\n",
    "\n",
    "def autolabel(rects):\n",
    "    \"\"\"Attach a text label above each bar in *rects*, displaying its height.\"\"\"\n",
    "    for rect in rects:\n",
    "        height = rect.get_height()\n",
    "        ax.annotate('{}'.format(height),\n",
    "                    xy=(rect.get_x() + rect.get_width() / 2, height),\n",
    "                    xytext=(0, 3),  # 3 points vertical offset\n",
    "                    textcoords=\"offset points\",\n",
    "                    ha='center', va='bottom')\n",
    "\n",
    "\n",
    "autolabel(rects1)\n",
    "autolabel(rects2)\n",
    "\n",
    "fig.tight_layout()\n",
    "\n",
    "plt.show()"
   ]
  }
 ],
 "metadata": {
  "kernelspec": {
   "display_name": "Python 2",
   "language": "python",
   "name": "python2"
  },
  "language_info": {
   "codemirror_mode": {
    "name": "ipython",
    "version": 2
   },
   "file_extension": ".py",
   "mimetype": "text/x-python",
   "name": "python",
   "nbconvert_exporter": "python",
   "pygments_lexer": "ipython2",
   "version": "2.7.16"
  }
 },
 "nbformat": 4,
 "nbformat_minor": 2
}
